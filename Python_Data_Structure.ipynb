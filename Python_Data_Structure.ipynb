{
  "nbformat": 4,
  "nbformat_minor": 0,
  "metadata": {
    "colab": {
      "provenance": []
    },
    "kernelspec": {
      "name": "python3",
      "display_name": "Python 3"
    },
    "language_info": {
      "name": "python"
    }
  },
  "cells": [
    {
      "cell_type": "markdown",
      "source": [
        "#Data Types and Structures Questions\n"
      ],
      "metadata": {
        "id": "_ASdHJYu4JmO"
      }
    },
    {
      "cell_type": "markdown",
      "source": [
        "1. What are data structures, and why are they important?\n",
        "  - Data structures are ways of organizing and storing data to make it easier to access, modify, and use. They are important because they improve the efficiency of algorithms and help optimize resource usage.\n",
        "\n",
        "2. What is the difference between mutable and immutable data types?\n",
        "  - Mutable data types can be changed after creation e.g., lists, while immutable data types cannot be changed once created e.g., tuples, strings.\n",
        "\n",
        "3. What are the main differences between lists and tuples in Python?\n",
        "  - Lists are mutable that can be modified, ordered collections, while tuples are immutable which cannot be modified and also ordered collections. Tuples are often used for fixed, constant data.\n",
        "\n",
        "4. How do dictionaries store data?\n",
        "  - Dictionaries store data as key-value pairs. Each key is unique, and it maps to a corresponding value, making it efficient for retrieving values using keys.\n",
        "\n",
        "5. Why might you use a set instead of a list in Python?\n",
        "  - A set is useful when you want to store unique values and don't care about the order. It automatically removes duplicates, whereas lists can store duplicate values.\n",
        "\n",
        "6. What is a string in Python, and how is it different from a list?\n",
        "  - A string is a sequence of characters, whereas a list can hold any type of data, such as numbers, strings, or other lists. Strings are immutable, while lists are mutable.\n",
        "\n",
        "7. How do tuples ensure data integrity in Python?\n",
        "  - Tuples are immutable, meaning once created, their data cannot be changed. This ensures that the data remains consistent and cannot be accidentally modified.\n",
        "\n",
        "8. What is a hash table, and how does it relate to dictionaries in Python?\n",
        "  - A hash table is a data structure that allows fast access to values by using a hash function to map keys to values. In Python, dictionaries are implemented using hash tables.\n",
        "\n",
        "9. Can lists contain different data types in Python?\n",
        "  - Yes, lists can contain elements of different data types. For example, a list can store integers, strings, and even other lists.\n",
        "\n",
        "10. Explain why strings are immutable in Python?\n",
        "  - Strings are immutable to ensure performance and reliability. Immutable objects are faster and safer because their values cannot be accidentally changed.\n",
        "\n",
        "11. What advantages do dictionaries offer over lists for certain tasks?\n",
        "  - Dictionaries offer faster lookups by key (O(1) time complexity), whereas lists require searching by index, which is slower, especially for large datasets.\n",
        "\n",
        "12. Describe a scenario where using a tuple would be preferable over a list?\n",
        "  - Use a tuple when you need fixed, constant data that should not change, such as representing geographical coordinates or configuration settings.\n",
        "\n",
        "13. How do sets handle duplicate values in Python?\n",
        "  - Sets automatically remove duplicates. If you try to add the same value multiple times, it will only appear once in the set.\n",
        "\n",
        "14. How does the “in” keyword work differently for lists and dictionaries?\n",
        "  - For lists, the \"in\" keyword checks if an element is present. In dictionaries, it checks if a key exists, not a value.\n",
        "\n",
        "15. Can you modify the elements of a tuple? Explain why or why not?\n",
        "  - No, you cannot modify the elements of a tuple because tuples are immutable. Once created, their elements cannot be changed.\n",
        "\n",
        "16. What is a nested dictionary, and give an example of its use case?\n",
        "  - A nested dictionary is a dictionary inside another dictionary. It's useful for organizing hierarchical data, such as storing details of multiple employees: {'emp1': {'name': 'John', 'age': 25}}.\n",
        "\n",
        "17. Describe the time complexity of accessing elements in a dictionary?\n",
        "  - Accessing elements in a dictionary has O(1) time complexity, meaning it is very fast, regardless of the size of the dictionary.\n",
        "\n",
        "18. In what situations are lists preferred over dictionaries?\n",
        "  - Lists are preferred when the order of items matters, or when you need to store multiple values of the same type that will be accessed by their position (index) in the list.\n",
        "\n",
        "19. Why are dictionaries considered unordered, and how does that affect data retrieval?\n",
        "  - Dictionaries are unordered because the keys do not follow a specific order. This means that data retrieval is based on keys, but the order in which items were added isn't preserved.\n",
        "\n",
        "20. Explain the difference between a list and a dictionary in terms of data retrieval?\n",
        "  - In a list, you retrieve data by index (position). In a dictionary, you retrieve data by key. Lists store data sequentially, whereas dictionaries store data as key-value pairs."
      ],
      "metadata": {
        "id": "Xnf4gaf32dOH"
      }
    },
    {
      "cell_type": "markdown",
      "source": [
        "#Practical Questions\n"
      ],
      "metadata": {
        "id": "DZBiflEo4hIA"
      }
    },
    {
      "cell_type": "code",
      "source": [
        "# Write a code to create a string with your name and print it\n",
        "name = \"John\"\n",
        "print(name)"
      ],
      "metadata": {
        "colab": {
          "base_uri": "https://localhost:8080/"
        },
        "id": "rAUar-nE4mII",
        "outputId": "c22d4de5-218c-4fbb-b7ed-6103c0fe02b2"
      },
      "execution_count": 1,
      "outputs": [
        {
          "output_type": "stream",
          "name": "stdout",
          "text": [
            "John\n"
          ]
        }
      ]
    },
    {
      "cell_type": "code",
      "source": [
        "# Write a code to find the length of the string \"Hello World\"\n",
        "string = \"Hello World\"\n",
        "print(len(string))"
      ],
      "metadata": {
        "colab": {
          "base_uri": "https://localhost:8080/"
        },
        "id": "B4e-z0S11_hF",
        "outputId": "7a071038-e01c-4097-dff4-c1966c032469"
      },
      "execution_count": 2,
      "outputs": [
        {
          "output_type": "stream",
          "name": "stdout",
          "text": [
            "11\n"
          ]
        }
      ]
    },
    {
      "cell_type": "code",
      "source": [
        "# Write a code to slice the first 3 characters from the string \"Python Programming\"\n",
        "text = \"Python Programming\"\n",
        "print(text[:3])\n"
      ],
      "metadata": {
        "colab": {
          "base_uri": "https://localhost:8080/"
        },
        "id": "c2T9_uI-2B7K",
        "outputId": "b1ddfb6e-0bda-46d3-ec1d-c8eac8c7307b"
      },
      "execution_count": 3,
      "outputs": [
        {
          "output_type": "stream",
          "name": "stdout",
          "text": [
            "Pyt\n"
          ]
        }
      ]
    },
    {
      "cell_type": "code",
      "source": [
        "# Write a code to convert the string \"hello\" to uppercase\n",
        "word = \"hello\"\n",
        "print(word.upper())"
      ],
      "metadata": {
        "colab": {
          "base_uri": "https://localhost:8080/"
        },
        "id": "x7G0wBpI2FGI",
        "outputId": "31fa13c8-b4ab-403f-893e-e5f678c940e9"
      },
      "execution_count": 4,
      "outputs": [
        {
          "output_type": "stream",
          "name": "stdout",
          "text": [
            "HELLO\n"
          ]
        }
      ]
    },
    {
      "cell_type": "code",
      "source": [
        "# Write a code to replace the word \"apple\" with \"orange\" in the string \"I like apple\"\n",
        "sentence = \"I like apple\"\n",
        "print(sentence.replace(\"apple\", \"orange\"))"
      ],
      "metadata": {
        "colab": {
          "base_uri": "https://localhost:8080/"
        },
        "id": "Rui123vG2I7o",
        "outputId": "b0d28417-5d3d-4e61-f115-ee267f082919"
      },
      "execution_count": 5,
      "outputs": [
        {
          "output_type": "stream",
          "name": "stdout",
          "text": [
            "I like orange\n"
          ]
        }
      ]
    },
    {
      "cell_type": "code",
      "source": [
        "# Write a code to create a list with numbers 1 to 5 and print it\n",
        "numbers = [1, 2, 3, 4, 5]\n",
        "print(numbers)"
      ],
      "metadata": {
        "colab": {
          "base_uri": "https://localhost:8080/"
        },
        "id": "Y1crDDH62K_R",
        "outputId": "e075efa2-e6ae-4a88-f033-4917dd10df45"
      },
      "execution_count": 6,
      "outputs": [
        {
          "output_type": "stream",
          "name": "stdout",
          "text": [
            "[1, 2, 3, 4, 5]\n"
          ]
        }
      ]
    },
    {
      "cell_type": "code",
      "source": [
        "# Write a code to append the number 10 to the list [1, 2, 3, 4]\n",
        "numbers.append(10)\n",
        "print(numbers)"
      ],
      "metadata": {
        "colab": {
          "base_uri": "https://localhost:8080/"
        },
        "id": "0xo7aaW32ObR",
        "outputId": "08e7d689-864b-4c10-b33b-a2a8543390fc"
      },
      "execution_count": 7,
      "outputs": [
        {
          "output_type": "stream",
          "name": "stdout",
          "text": [
            "[1, 2, 3, 4, 5, 10]\n"
          ]
        }
      ]
    },
    {
      "cell_type": "code",
      "source": [
        "# Write a code to remove the number 3 from the list [1, 2, 3, 4, 5]\n",
        "numbers.remove(3)\n",
        "print(numbers)"
      ],
      "metadata": {
        "colab": {
          "base_uri": "https://localhost:8080/"
        },
        "id": "4dFzsaME2QSq",
        "outputId": "c9629999-2fb3-4393-f868-7baee64b36dc"
      },
      "execution_count": 8,
      "outputs": [
        {
          "output_type": "stream",
          "name": "stdout",
          "text": [
            "[1, 2, 4, 5, 10]\n"
          ]
        }
      ]
    },
    {
      "cell_type": "code",
      "source": [
        "# Write a code to access the second element in the list ['a', 'b', 'c', 'd']\n",
        "my_list = ['a', 'b', 'c', 'd']\n",
        "print(my_list[1])"
      ],
      "metadata": {
        "colab": {
          "base_uri": "https://localhost:8080/"
        },
        "id": "06iSMJww2R0R",
        "outputId": "17e606f9-319e-4993-c27a-8d497bb59a82"
      },
      "execution_count": 9,
      "outputs": [
        {
          "output_type": "stream",
          "name": "stdout",
          "text": [
            "b\n"
          ]
        }
      ]
    },
    {
      "cell_type": "code",
      "source": [
        "# Write a code to reverse the list [10, 20, 30, 40, 50] in python without comments\n",
        "numbers = [10, 20, 30, 40, 50]\n",
        "numbers.reverse()\n",
        "print(numbers)"
      ],
      "metadata": {
        "colab": {
          "base_uri": "https://localhost:8080/"
        },
        "id": "czL5NJdc2Tch",
        "outputId": "46526085-7462-4b97-807b-6a8a099ed668"
      },
      "execution_count": 10,
      "outputs": [
        {
          "output_type": "stream",
          "name": "stdout",
          "text": [
            "[50, 40, 30, 20, 10]\n"
          ]
        }
      ]
    },
    {
      "cell_type": "code",
      "source": [
        "# Write a code to create a tuple with the elements 100, 200, 300 and print it.\n",
        "my_tuple = (100, 200, 300)\n",
        "print(my_tuple)"
      ],
      "metadata": {
        "colab": {
          "base_uri": "https://localhost:8080/"
        },
        "id": "bL7eZ11a3Pyy",
        "outputId": "91f9a3f9-e62e-4f07-b780-f32750cf487a"
      },
      "execution_count": 11,
      "outputs": [
        {
          "output_type": "stream",
          "name": "stdout",
          "text": [
            "(100, 200, 300)\n"
          ]
        }
      ]
    },
    {
      "cell_type": "code",
      "source": [
        "# Write a code to access the second-to-last element of the tuple ('red', 'green', 'blue', 'yellow').\n",
        "my_tuple = ('red', 'green', 'blue', 'yellow')\n",
        "print(my_tuple[-2])"
      ],
      "metadata": {
        "colab": {
          "base_uri": "https://localhost:8080/"
        },
        "id": "MnfvkzcU4L66",
        "outputId": "3fb2b565-c2c1-41fe-aa19-e1bedd8305cc"
      },
      "execution_count": 12,
      "outputs": [
        {
          "output_type": "stream",
          "name": "stdout",
          "text": [
            "blue\n"
          ]
        }
      ]
    },
    {
      "cell_type": "code",
      "source": [
        "# Write a code to find the minimum number in the tuple (10, 20, 5, 15).\n",
        "my_tuple = (10, 20, 5, 15)\n",
        "print(min(my_tuple))"
      ],
      "metadata": {
        "colab": {
          "base_uri": "https://localhost:8080/"
        },
        "id": "q02l5aB14Oc6",
        "outputId": "6a6cc6b4-acc3-4a74-adb0-995a5505293f"
      },
      "execution_count": 13,
      "outputs": [
        {
          "output_type": "stream",
          "name": "stdout",
          "text": [
            "5\n"
          ]
        }
      ]
    },
    {
      "cell_type": "code",
      "source": [
        "# Write a code to find the index of the element \"cat\" in the tuple ('dog', 'cat', 'rabbit').\n",
        "my_tuple = ('dog', 'cat', 'rabbit')\n",
        "print(my_tuple.index('cat'))\n"
      ],
      "metadata": {
        "colab": {
          "base_uri": "https://localhost:8080/"
        },
        "id": "HPWrIpU04S1y",
        "outputId": "4683dc72-9a67-4c9b-83e8-5ca6e63730e0"
      },
      "execution_count": 14,
      "outputs": [
        {
          "output_type": "stream",
          "name": "stdout",
          "text": [
            "1\n"
          ]
        }
      ]
    },
    {
      "cell_type": "code",
      "source": [
        "# Write a code to create a tuple containing three different fruits and check if \"kiwi\" is in it.\n",
        "my_tuple = ('apple', 'banana', 'orange')\n",
        "print('kiwi' in my_tuple)"
      ],
      "metadata": {
        "colab": {
          "base_uri": "https://localhost:8080/"
        },
        "id": "nMuFFlHL4U1p",
        "outputId": "8b8d8f22-db03-4c46-ee77-0598f887a379"
      },
      "execution_count": 15,
      "outputs": [
        {
          "output_type": "stream",
          "name": "stdout",
          "text": [
            "False\n"
          ]
        }
      ]
    },
    {
      "cell_type": "code",
      "source": [
        "#  Write a code to create a set with the elements 'a', 'b', 'c' and print it.\n",
        "my_set = {'a', 'b', 'c'}\n",
        "print(my_set)"
      ],
      "metadata": {
        "colab": {
          "base_uri": "https://localhost:8080/"
        },
        "id": "IP_H1z_g4XKc",
        "outputId": "30fc80d3-8d4b-4438-edeb-2f4bffe7c701"
      },
      "execution_count": 16,
      "outputs": [
        {
          "output_type": "stream",
          "name": "stdout",
          "text": [
            "{'c', 'a', 'b'}\n"
          ]
        }
      ]
    },
    {
      "cell_type": "code",
      "source": [
        "# Write a code to clear all elements from the set {1, 2, 3, 4, 5}.\n",
        "my_set = {1, 2, 3, 4, 5}\n",
        "my_set.clear()\n",
        "print(my_set)"
      ],
      "metadata": {
        "colab": {
          "base_uri": "https://localhost:8080/"
        },
        "id": "n_0LOB1i4Zkb",
        "outputId": "608b461c-31c4-4add-c60b-4aee29c391ee"
      },
      "execution_count": 17,
      "outputs": [
        {
          "output_type": "stream",
          "name": "stdout",
          "text": [
            "set()\n"
          ]
        }
      ]
    },
    {
      "cell_type": "code",
      "source": [
        "# Write a code to remove the element 4 from the set {1, 2, 3, 4}.\n",
        "my_set = {1, 2, 3, 4}\n",
        "my_set.remove(4)\n",
        "print(my_set)"
      ],
      "metadata": {
        "colab": {
          "base_uri": "https://localhost:8080/"
        },
        "id": "62pxIqF34eSK",
        "outputId": "aba7cae7-ac52-4620-bf84-43e80bcd408e"
      },
      "execution_count": 18,
      "outputs": [
        {
          "output_type": "stream",
          "name": "stdout",
          "text": [
            "{1, 2, 3}\n"
          ]
        }
      ]
    },
    {
      "cell_type": "code",
      "source": [
        "# Write a code to find the union of two sets {1, 2, 3} and {3, 4, 5}.\n",
        "set1 = {1, 2, 3}\n",
        "set2 = {3, 4, 5}\n",
        "print(set1.union(set2))"
      ],
      "metadata": {
        "colab": {
          "base_uri": "https://localhost:8080/"
        },
        "id": "fLzj3Wxs4kDS",
        "outputId": "7f86426d-5d80-46bd-c02a-c47d9b90b7be"
      },
      "execution_count": 19,
      "outputs": [
        {
          "output_type": "stream",
          "name": "stdout",
          "text": [
            "{1, 2, 3, 4, 5}\n"
          ]
        }
      ]
    },
    {
      "cell_type": "code",
      "source": [
        "# Write a code to find the intersection of two sets {1, 2, 3} and {2, 3, 4}.\n",
        "set1 = {1, 2, 3}\n",
        "set2 = {2, 3, 4}\n",
        "print(set1.intersection(set2))"
      ],
      "metadata": {
        "colab": {
          "base_uri": "https://localhost:8080/"
        },
        "id": "MPfH761k4mtq",
        "outputId": "39b1ac94-9877-4e3d-bf3e-bb44b3fb3016"
      },
      "execution_count": 20,
      "outputs": [
        {
          "output_type": "stream",
          "name": "stdout",
          "text": [
            "{2, 3}\n"
          ]
        }
      ]
    },
    {
      "cell_type": "code",
      "source": [
        "# Write a code to create a dictionary with the keys \"name\", \"age\", and \"city\", and print it.\n",
        "my_dict = {'name': 'John', 'age': 25, 'city': 'New York'}\n",
        "print(my_dict)"
      ],
      "metadata": {
        "colab": {
          "base_uri": "https://localhost:8080/"
        },
        "id": "5MHc8SNS4pGy",
        "outputId": "84096350-e894-49b0-a0d8-a8b2e4c58efd"
      },
      "execution_count": 21,
      "outputs": [
        {
          "output_type": "stream",
          "name": "stdout",
          "text": [
            "{'name': 'John', 'age': 25, 'city': 'New York'}\n"
          ]
        }
      ]
    },
    {
      "cell_type": "code",
      "source": [
        "# Write a code to add a new key-value pair \"country\": \"USA\" to the dictionary {'name': 'John', 'age': 25}.\n",
        "my_dict['country'] = 'USA'\n",
        "print(my_dict)"
      ],
      "metadata": {
        "colab": {
          "base_uri": "https://localhost:8080/"
        },
        "id": "f7Vz9fBU4sMR",
        "outputId": "3592e117-af1c-4396-9035-c26a8c01c03b"
      },
      "execution_count": 22,
      "outputs": [
        {
          "output_type": "stream",
          "name": "stdout",
          "text": [
            "{'name': 'John', 'age': 25, 'city': 'New York', 'country': 'USA'}\n"
          ]
        }
      ]
    },
    {
      "cell_type": "code",
      "source": [
        "# Write a code to access the value associated with the key \"name\" in the dictionary {'name': 'Alice', 'age': 30}.\n",
        "my_dict = {'name': 'Alice', 'age': 30}\n",
        "print(my_dict['name'])"
      ],
      "metadata": {
        "colab": {
          "base_uri": "https://localhost:8080/"
        },
        "id": "KZewChHQ4uOC",
        "outputId": "ae117776-0e84-428f-db01-80d98a4892a0"
      },
      "execution_count": 23,
      "outputs": [
        {
          "output_type": "stream",
          "name": "stdout",
          "text": [
            "Alice\n"
          ]
        }
      ]
    },
    {
      "cell_type": "code",
      "source": [
        "# Write a code to remove the key \"age\" from the dictionary {'name': 'Bob', 'age': 22, 'city': 'New York'}\n",
        "my_dict = {'name': 'Bob', 'age': 22, 'city': 'New York'}\n",
        "del my_dict['age']\n",
        "print(my_dict)"
      ],
      "metadata": {
        "colab": {
          "base_uri": "https://localhost:8080/"
        },
        "id": "zC6r9IBv4xq7",
        "outputId": "50fe0e20-25ee-4871-c16b-b3f33a553fb8"
      },
      "execution_count": 24,
      "outputs": [
        {
          "output_type": "stream",
          "name": "stdout",
          "text": [
            "{'name': 'Bob', 'city': 'New York'}\n"
          ]
        }
      ]
    },
    {
      "cell_type": "code",
      "source": [
        "#  Write a code to check if the key \"city\" exists in the dictionary {'name': 'Alice', 'city': 'Paris'}.\n",
        "my_dict = {'name': 'Alice', 'city': 'Paris'}\n",
        "print('city' in my_dict)"
      ],
      "metadata": {
        "colab": {
          "base_uri": "https://localhost:8080/"
        },
        "id": "eUVFQ_OA40VT",
        "outputId": "9c9d03de-7ab4-4d5f-d77b-abeeb7ddb2c0"
      },
      "execution_count": 25,
      "outputs": [
        {
          "output_type": "stream",
          "name": "stdout",
          "text": [
            "True\n"
          ]
        }
      ]
    },
    {
      "cell_type": "code",
      "source": [
        "# Write a code to create a list, a tuple, and a dictionary, and print them all.\n",
        "my_list = [1, 2, 3]\n",
        "my_tuple = (4, 5, 6)\n",
        "my_dict = {'name': 'John', 'age': 25}"
      ],
      "metadata": {
        "id": "Kq0ZtQ8-42WT"
      },
      "execution_count": 26,
      "outputs": []
    },
    {
      "cell_type": "code",
      "source": [
        "# Write a code to create a list of 5 random numbers between 1 and 100, sort it in ascending order, and print the result.(replaced).\n",
        "import random\n",
        "numbers = [random.randint(1, 100) for _ in range(5)]\n",
        "numbers.sort()\n",
        "print(numbers)"
      ],
      "metadata": {
        "colab": {
          "base_uri": "https://localhost:8080/"
        },
        "id": "8zdOqTA145_i",
        "outputId": "ceb4dea2-a7c4-4814-827e-3ca1dfaa828b"
      },
      "execution_count": 27,
      "outputs": [
        {
          "output_type": "stream",
          "name": "stdout",
          "text": [
            "[11, 29, 46, 49, 68]\n"
          ]
        }
      ]
    },
    {
      "cell_type": "code",
      "source": [
        "# Write a code to create a list with strings and print the element at the third index.\n",
        "my_list = ['apple', 'banana', 'orange', 'grape']\n",
        "print(my_list[2])"
      ],
      "metadata": {
        "colab": {
          "base_uri": "https://localhost:8080/"
        },
        "id": "xKJzu_wD49Yq",
        "outputId": "994bc00d-1330-483d-ed31-47592b19ea16"
      },
      "execution_count": 28,
      "outputs": [
        {
          "output_type": "stream",
          "name": "stdout",
          "text": [
            "orange\n"
          ]
        }
      ]
    },
    {
      "cell_type": "code",
      "source": [
        "# Write a code to combine two dictionaries into one and print the result.\n",
        "dict1 = {'a': 1, 'b': 2}\n",
        "dict2 = {'c': 3, 'd': 4}\n",
        "dict1.update(dict2)\n",
        "print(dict1)"
      ],
      "metadata": {
        "colab": {
          "base_uri": "https://localhost:8080/"
        },
        "id": "cKY17Cat4_r5",
        "outputId": "85ad0774-82c0-4fd1-fb73-13234a363ced"
      },
      "execution_count": 29,
      "outputs": [
        {
          "output_type": "stream",
          "name": "stdout",
          "text": [
            "{'a': 1, 'b': 2, 'c': 3, 'd': 4}\n"
          ]
        }
      ]
    },
    {
      "cell_type": "code",
      "source": [
        "# Write a code to convert a list of strings into a set.\n",
        "my_list = ['apple', 'banana', 'orange', 'apple']\n",
        "my_set = set(my_list)\n",
        "print(my_set)"
      ],
      "metadata": {
        "colab": {
          "base_uri": "https://localhost:8080/"
        },
        "id": "-jcQTgad5Bzb",
        "outputId": "64336bab-93ba-4952-f3ce-3f82c286bd41"
      },
      "execution_count": 30,
      "outputs": [
        {
          "output_type": "stream",
          "name": "stdout",
          "text": [
            "{'banana', 'apple', 'orange'}\n"
          ]
        }
      ]
    }
  ]
}