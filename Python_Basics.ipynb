{
  "nbformat": 4,
  "nbformat_minor": 0,
  "metadata": {
    "colab": {
      "provenance": []
    },
    "kernelspec": {
      "name": "python3",
      "display_name": "Python 3"
    },
    "language_info": {
      "name": "python"
    }
  },
  "cells": [
    {
      "cell_type": "markdown",
      "source": [
        "#Python Basics Questions\n"
      ],
      "metadata": {
        "id": "72_g4_nGPYK5"
      }
    },
    {
      "cell_type": "markdown",
      "source": [
        "1. What is Python, and why is it popular?\n",
        "    - Python is widely used programming language which is mainly known for being simple and easy to read. It is popular because it allows developers to write code quickly, supports many different applications and has large community that provide help and resources.\n",
        "2. What is an interpreter in Python?\n",
        "    - Interpreter is a program that runs python code line by line instead of compiling whole code at once, which makes python easy to debug but due to this it can be slower than then other languages.\n",
        "3. What are pre-defined keywords in Python?\n",
        "   - Keywords in python are special words that have specific meaning and cannot be used as variables like if, else, while, for etc.\n",
        "4. Can keywords be used as variable names?\n",
        "    - No, keywords cannot be used as variable names because they already have special meanings in Python. For example we cannot name a variable if because it is used for conditional statements.\n",
        "5. What is mutability in Python?\n",
        "   - mutability refers to whether a value can be changed after it is created. If something is mutable, you can modify its contents for example sets, lists etc.\n",
        "6. Why are lists mutable, but tuples are immutable?\n",
        "   - Lists are mutable, which means you can add, remove, or change items in them. Tuples, on the other hand, are immutable, meaning their contents cannot be modified after they are created. This makes tuples faster and safer in situations where you don't want data to change.\n",
        "7. What is the difference between == and is\n",
        "   operators in Python?\n",
        "   - == checks if two values are the same.\n",
        "   - is checks if two variables point to the exact\n",
        "     same memory location.\n",
        "8. What are logical operators in Python?\n",
        "   - Logical operators are used to make decisions\n",
        "     in Python:\n",
        "       - and → Both conditions must be true.\n",
        "       - or → At least one condition must be true.\n",
        "       - not → Reverses the condition.\n",
        "9. What is type casting in Python?\n",
        "   - Type casting means converting one type of\n",
        "     value to another, like changing a string \"10\" into an actual number 10.\n",
        "10. What is the difference between implicit and\n",
        "     explicit type casting?\n",
        "    - Implicit type casting happens automatically when Python converts a smaller type (like an integer) to a larger type (like a float).\n",
        "    - Explicit type casting is when you manually convert one type to another using functions like int(), float(), or str().\n",
        "11. What is the purpose of conditional statements\n",
        "     in Python?\n",
        "    - Conditional statements allow the program to make decisions. For example, if a student scores above 50, they pass; otherwise, they fail.\n",
        "\n",
        "12. How does the elif statement work?\n",
        "    - elif means \"else if\" and lets you check multiple conditions one after another. If the first condition is false, it moves to the next elif, and so on.\n",
        "\n",
        "13. What is the difference between for and while\n",
        "     loops?\n",
        "    - A for loop is used when you know exactly how many times you need to repeat something.\n",
        "    - A while loop is used when the number of repetitions depends on a condition.\n",
        "14. Describe a scenario where a while loop is more\n",
        "     suitable than a for loop.\n",
        "   - A while loop is better when you don't know how many times you need to repeat an action. For example, if you are asking a user for a correct password, you would use a while loop to keep asking until they enter the right one."
      ],
      "metadata": {
        "id": "t3OxXQpTRKY-"
      }
    },
    {
      "cell_type": "markdown",
      "source": [
        "# Practical Questions"
      ],
      "metadata": {
        "id": "EB-lfesyo5_s"
      }
    },
    {
      "cell_type": "code",
      "source": [
        "# 1. Write a Python program to print \"Hello, World!\n",
        "print(\"Hello, World!\")"
      ],
      "metadata": {
        "colab": {
          "base_uri": "https://localhost:8080/"
        },
        "id": "okEVkqyeofz2",
        "outputId": "161e0715-4d90-48ab-ce45-76620a137eb0"
      },
      "execution_count": 1,
      "outputs": [
        {
          "output_type": "stream",
          "name": "stdout",
          "text": [
            "Hello, World!\n"
          ]
        }
      ]
    },
    {
      "cell_type": "code",
      "source": [
        "# 2.  Write a Python program that displays your name and age.\n",
        "name = \"John\"\n",
        "age = 25\n",
        "print(\"Name:\", name)\n",
        "print(\"Age:\", age)"
      ],
      "metadata": {
        "colab": {
          "base_uri": "https://localhost:8080/"
        },
        "id": "eM8XAL0gqZCR",
        "outputId": "a9ac407f-0667-48aa-adad-42a4f10c8b17"
      },
      "execution_count": 2,
      "outputs": [
        {
          "output_type": "stream",
          "name": "stdout",
          "text": [
            "Name: John\n",
            "Age: 25\n"
          ]
        }
      ]
    },
    {
      "cell_type": "code",
      "source": [
        "# 3. Write code to print all the pre-defined keywords in Python using the keyword library.\n",
        "import keyword\n",
        "print(keyword.kwlist)"
      ],
      "metadata": {
        "colab": {
          "base_uri": "https://localhost:8080/"
        },
        "id": "XrXlA-lFrK0L",
        "outputId": "1c590ace-6cd1-4452-b2a4-c6ef73dfd335"
      },
      "execution_count": 3,
      "outputs": [
        {
          "output_type": "stream",
          "name": "stdout",
          "text": [
            "['False', 'None', 'True', 'and', 'as', 'assert', 'async', 'await', 'break', 'class', 'continue', 'def', 'del', 'elif', 'else', 'except', 'finally', 'for', 'from', 'global', 'if', 'import', 'in', 'is', 'lambda', 'nonlocal', 'not', 'or', 'pass', 'raise', 'return', 'try', 'while', 'with', 'yield']\n"
          ]
        }
      ]
    },
    {
      "cell_type": "code",
      "source": [
        "# 4. using the keyword library Write a program that checks if a given word is a Python keyword.\n",
        "word = input(\"Enter a word: \")\n",
        "print(word, \"is a keyword:\", keyword.iskeyword(word))"
      ],
      "metadata": {
        "colab": {
          "base_uri": "https://localhost:8080/"
        },
        "id": "Qbf7TzTHrOg8",
        "outputId": "9ce22f29-0be2-4849-a63d-7a0ef9f700c2"
      },
      "execution_count": 4,
      "outputs": [
        {
          "output_type": "stream",
          "name": "stdout",
          "text": [
            "Enter a word: where\n",
            "where is a keyword: False\n"
          ]
        }
      ]
    },
    {
      "cell_type": "code",
      "source": [
        "# 5. Create a list and tuple in Python, and demonstrate how attempting to change an element works differently for each.\n",
        "my_list = [1, 2, 3]\n",
        "my_tuple = (1, 2, 3)\n",
        "my_list[0] = 10\n",
        "# tuple[0] = 10  # Doing this will cause an error\n",
        "print(my_list)\n",
        "print(my_tuple)"
      ],
      "metadata": {
        "colab": {
          "base_uri": "https://localhost:8080/"
        },
        "id": "xUep213brSFM",
        "outputId": "2fadd6b3-8b8b-4f1d-9e86-3e914ac4e512"
      },
      "execution_count": 5,
      "outputs": [
        {
          "output_type": "stream",
          "name": "stdout",
          "text": [
            "[10, 2, 3]\n",
            "(1, 2, 3)\n"
          ]
        }
      ]
    },
    {
      "cell_type": "code",
      "source": [
        "# 6. Write a function to demonstrate the behavior of mutable and immutable arguments.\n",
        "def modify_values(num, lst):\n",
        "    num += 1\n",
        "    lst.append(4)\n",
        "x = 5\n",
        "y = [1, 2, 3]\n",
        "modify_values(x, y)\n",
        "print(x)\n",
        "print(y)"
      ],
      "metadata": {
        "colab": {
          "base_uri": "https://localhost:8080/"
        },
        "id": "AOwokLwRH1Ug",
        "outputId": "6375d117-612a-4263-f5d0-b30a01c50bbc"
      },
      "execution_count": 6,
      "outputs": [
        {
          "output_type": "stream",
          "name": "stdout",
          "text": [
            "5\n",
            "[1, 2, 3, 4]\n"
          ]
        }
      ]
    },
    {
      "cell_type": "code",
      "source": [
        "# 7. Write a function to demonstrate the behavior of mutable and immutable arguments.\n",
        "def modify_values(num, lst):\n",
        "    num += 1\n",
        "    lst.append(4)\n",
        "x = 5\n",
        "y = [1, 2, 3]\n",
        "modify_values(x, y)\n",
        "print(x)\n",
        "print(y)"
      ],
      "metadata": {
        "colab": {
          "base_uri": "https://localhost:8080/"
        },
        "id": "PJbS0owusPZi",
        "outputId": "97e6a397-4cab-40c4-e661-15b2e981c2be"
      },
      "execution_count": 7,
      "outputs": [
        {
          "output_type": "stream",
          "name": "stdout",
          "text": [
            "5\n",
            "[1, 2, 3, 4]\n"
          ]
        }
      ]
    },
    {
      "cell_type": "code",
      "source": [
        "# 8. Write a program to demonstrate the use of logical operators.\n",
        "a, b = True, False\n",
        "print(a and b)\n",
        "print(a or b)\n",
        "print(not a)"
      ],
      "metadata": {
        "colab": {
          "base_uri": "https://localhost:8080/"
        },
        "id": "AZZt8cLqCeqw",
        "outputId": "bded9df9-74d8-44f7-e105-d463f85cc5ee"
      },
      "execution_count": 8,
      "outputs": [
        {
          "output_type": "stream",
          "name": "stdout",
          "text": [
            "False\n",
            "True\n",
            "False\n"
          ]
        }
      ]
    },
    {
      "cell_type": "code",
      "source": [
        "# 9. Write a Python program to convert user input from string to integer, float, and Boolean types.\n",
        "user_input = input(\"Enter a value: \")\n",
        "print(int(user_input), float(user_input), bool(user_input))"
      ],
      "metadata": {
        "colab": {
          "base_uri": "https://localhost:8080/"
        },
        "id": "_SZMKgAfCsQP",
        "outputId": "3509b57c-e5ed-4f0a-f84c-94db85709a0a"
      },
      "execution_count": 1,
      "outputs": [
        {
          "output_type": "stream",
          "name": "stdout",
          "text": [
            "Enter a value: 3\n",
            "3 3.0 True\n"
          ]
        }
      ]
    },
    {
      "cell_type": "code",
      "source": [
        "# 10. Write code to demonstrate type casting with list elements.\n",
        "num_list = [\"1\", \"2\", \"3\"]\n",
        "float_list = [float(item) for item in num_list]\n",
        "print(num_list)"
      ],
      "metadata": {
        "colab": {
          "base_uri": "https://localhost:8080/"
        },
        "collapsed": true,
        "id": "UmSsJ3anC_Mk",
        "outputId": "afcf3eec-a7df-46bf-835d-12b156291600"
      },
      "execution_count": 2,
      "outputs": [
        {
          "output_type": "stream",
          "name": "stdout",
          "text": [
            "['1', '2', '3']\n"
          ]
        }
      ]
    },
    {
      "cell_type": "code",
      "source": [
        "# 11. Write a program that checks if a number is positive, negative, or zero.\n",
        "num = int(input(\"Enter a number: \"))\n",
        "if num > 0:\n",
        "    print(\"Positive\")\n",
        "elif num < 0:\n",
        "    print(\"Negative\")\n",
        "else:\n",
        "    print(\"Zero\")"
      ],
      "metadata": {
        "colab": {
          "base_uri": "https://localhost:8080/"
        },
        "id": "uksySqEsHM1K",
        "outputId": "5d780eae-ad9c-401e-d4cc-8a0e1246f92e"
      },
      "execution_count": 11,
      "outputs": [
        {
          "output_type": "stream",
          "name": "stdout",
          "text": [
            "Enter a number: 43\n",
            "Positive\n"
          ]
        }
      ]
    },
    {
      "cell_type": "code",
      "source": [
        "# 12. Write a for loop to print numbers from 1 to 10.\n",
        "for i in range(1, 11):\n",
        "    print(i)"
      ],
      "metadata": {
        "colab": {
          "base_uri": "https://localhost:8080/"
        },
        "id": "8HiImELiHYyc",
        "outputId": "bcf3eedf-abff-4044-cb86-96046450aae7"
      },
      "execution_count": 12,
      "outputs": [
        {
          "output_type": "stream",
          "name": "stdout",
          "text": [
            "1\n",
            "2\n",
            "3\n",
            "4\n",
            "5\n",
            "6\n",
            "7\n",
            "8\n",
            "9\n",
            "10\n"
          ]
        }
      ]
    },
    {
      "cell_type": "code",
      "source": [
        "# 13. Write a Python program to find the sum of all even numbers between 1 and 50.\n",
        "sum_even = sum(i for i in range(1, 51) if i % 2 == 0)\n",
        "print(sum_even)"
      ],
      "metadata": {
        "colab": {
          "base_uri": "https://localhost:8080/"
        },
        "id": "QtNRf_VkHhG8",
        "outputId": "ffaee785-a419-4ce9-eef1-787a3c51f6cd"
      },
      "execution_count": 13,
      "outputs": [
        {
          "output_type": "stream",
          "name": "stdout",
          "text": [
            "650\n"
          ]
        }
      ]
    },
    {
      "cell_type": "code",
      "source": [
        "# 14. Write a program to reverse a string using a while loop.\n",
        "s = input(\"Enter a string: \")\n",
        "rev = \"\"\n",
        "i = len(s) - 1\n",
        "while i >= 0:\n",
        "    rev += s[i]\n",
        "    i -= 1\n",
        "print(rev)"
      ],
      "metadata": {
        "colab": {
          "base_uri": "https://localhost:8080/"
        },
        "id": "KXFjt9SbHkH1",
        "outputId": "3b0fe78b-c8b3-4a64-e5db-d4dc00fa7bad"
      },
      "execution_count": 2,
      "outputs": [
        {
          "output_type": "stream",
          "name": "stdout",
          "text": [
            "Enter a string: ert\n",
            "tre\n"
          ]
        }
      ]
    },
    {
      "cell_type": "code",
      "source": [
        "# 15. Write a Python program to calculate the factorial of a number provided by the user using a while loop.\n",
        "n = int(input(\"Enter a number: \"))\n",
        "fact = 1\n",
        "while n > 1:\n",
        "    fact *= n\n",
        "    n -= 1\n",
        "print(fact)"
      ],
      "metadata": {
        "colab": {
          "base_uri": "https://localhost:8080/"
        },
        "id": "uOgIePGbHqop",
        "outputId": "76ecfc56-b755-4495-90e8-a75337da6e9e"
      },
      "execution_count": 15,
      "outputs": [
        {
          "output_type": "stream",
          "name": "stdout",
          "text": [
            "Enter a number: 6\n",
            "720\n"
          ]
        }
      ]
    }
  ]
}