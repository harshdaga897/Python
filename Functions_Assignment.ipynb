{
  "nbformat": 4,
  "nbformat_minor": 0,
  "metadata": {
    "colab": {
      "provenance": []
    },
    "kernelspec": {
      "name": "python3",
      "display_name": "Python 3"
    },
    "language_info": {
      "name": "python"
    }
  },
  "cells": [
    {
      "cell_type": "markdown",
      "source": [
        "#Theoritical"
      ],
      "metadata": {
        "id": "8-Cn4OVxTJyD"
      }
    },
    {
      "cell_type": "markdown",
      "source": [
        "1. What is the difference between a function and a method in Python?\n",
        "   - A function is a block of reusable code that performs a specific task. It is defined using the def keyword and can be called independently.\n",
        "   - A method is similar to a function but is associated with an object. Methods are called using the dot notation (object.method()).\n",
        "\n",
        "2. Explain the concept of function arguments and parameters in Python.\n",
        "   - Parameters: Variables listed inside the function definition.\n",
        "   - Arguments: Values passed to a function when calling it.\n",
        "\n",
        "3. What are the different ways to define and call a function in Python?\n",
        "   \n",
        "   1 Regular Function   \n",
        "       def add(a, b):\n",
        "       return a + b\n",
        "       print(add(3, 5))\n",
        "   2 Lambda Function\n",
        "       add = lambda a, b: a + b\n",
        "       print(add(3, 5))\n",
        "   3 Function with Default Arguments\n",
        "       def greet(name=\"Guest\"):\n",
        "       print(f\"Hello, {name}\")\n",
        "       greet()\n",
        "       greet(\"Alice\")\n",
        "   4 Function with *args(Variablle)\n",
        "       def sum_all(*numbers):\n",
        "       return sum(numbers)\n",
        "       print(sum_all(1, 2, 3, 4))\n",
        "   5 Function with **kwargs\n",
        "       def display_info(**details):\n",
        "       print(details)\n",
        "       display_info(name=\"Alice\", age=25)\n",
        "\n",
        "4. What is the purpose of the return statement in a Python function?\n",
        "    - The return statement is used to return a value from a function to the caller. Without return, a function returns None by default.\n",
        "\n",
        "5. What are iterators in Python and how do they differ from iterables?\n",
        "    - Iterable: An object capable of returning elements one at a time (e.g., lists, tuples, dictionaries).\n",
        "    - Iterator: An object that implements the __iter__() and __next__() methods.\n",
        "\n",
        "6. Explain the concept of generators in Python and how they are defined.\n",
        "    - A generator is a special function that returns an iterator using the yield keyword.It allows iteration without storing the entire sequence in memory.\n",
        "\n",
        "7. What are the advantages of using generators over regular functions?\n",
        "    - Memory Efficiency: They yield one value at a time, making them suitable for large datasets.\n",
        "    - Lazy Evaluation: Values are produced on demand.\n",
        "    - Improved Performance: Avoids storing all values in memory.\n",
        "    - Simpler Code: Avoids managing iterator state manually.\n",
        "\n",
        "8. What is a lambda function in Python and when is it typically used?\n",
        "    - A lambda function is an anonymous, single-expression function. Used for short, simple functions without a def block.\n",
        "    \n",
        "    Common Uses:\n",
        "    - In map(), filter(), and sorted()\n",
        "    - As arguments in higher-order functions\n",
        "\n",
        "9. Explain the purpose and usage of the map() function in Python.\n",
        "    - The map() function applies a given function to each item in an iterable (e.g., list, tuple) and returns a new iterable (a map object). It is commonly used for transforming data efficiently.\n",
        "\n",
        "    Usage of map()\n",
        "    1. Squaring a List of Numbers\n",
        "    2. Converting a List of Strings to Uppercase\n",
        "    3. Converting a List of Strings to Integers etc\n",
        "\n",
        "10. What is the difference between map(), reduce(), and filter() functions in Python?\n",
        "   - map(): Applies a function to each element. Example-\tmap(lambda x: x*2, [1, 2, 3]) → [2, 4, 6]\n",
        "   - filter():\tFilters elements based on a condition. Example-\tfilter(lambda x: x > 2, [1, 2, 3]) → [3]\n",
        "   - reduce():\tReduces elements to a single value. Example-\treduce(lambda x, y: x+y, [1, 2, 3]) → 6\n",
        "\n",
        "11. Using pen & Paper write the internal mechanism for sum operation using  reduce function on this given\n",
        "list:[47,11,42,13];\n",
        "   - from functools import reduce\n",
        "     numbers = [47, 11, 42, 13]\n",
        "     result = reduce(lambda x, y: x + y, numbers)\n",
        "     print(result)\n",
        "  1. First, the reduce function is imported.\n",
        "  2. We have a list of numbers: [47, 11, 42, 13].\n",
        "  3. The reduce function adds the numbers together, one by one.\n",
        "  4. It starts with the first two numbers (47 and 11), adds them up, then adds the next number (42), and keeps doing this until all numbers are added.\n",
        "  5. The final result, 113, is printed."
      ],
      "metadata": {
        "id": "9cO8sYtFTUsZ"
      }
    },
    {
      "cell_type": "markdown",
      "source": [
        "## Code"
      ],
      "metadata": {
        "id": "9xBDb_yS9Hdp"
      }
    },
    {
      "cell_type": "code",
      "source": [
        "## 1. Write a Python function that takes a list of numbers as input and returns the sum of all even numbers in the list.\n",
        "def sum_even(numbers):\n",
        "    return sum(num for num in numbers if num % 2 == 0)\n",
        "numbers_list = [47, 11, 42, 13]\n",
        "result = sum_even(numbers_list)\n",
        "print(result)"
      ],
      "metadata": {
        "colab": {
          "base_uri": "https://localhost:8080/"
        },
        "id": "0DiORkwi8ebl",
        "outputId": "db7afc73-747f-4dab-f5dd-8cae5f4b783a"
      },
      "execution_count": 1,
      "outputs": [
        {
          "output_type": "stream",
          "name": "stdout",
          "text": [
            "42\n"
          ]
        }
      ]
    },
    {
      "cell_type": "code",
      "source": [
        "## 2. Create a Python function that accepts a string and returns the reverse of that string.\n",
        "def reverse_string(s):\n",
        "    return s[::-1]\n",
        "\n",
        "print(reverse_string(\"hello\"))\n"
      ],
      "metadata": {
        "colab": {
          "base_uri": "https://localhost:8080/"
        },
        "id": "JoVT4xhc_WGx",
        "outputId": "6ecbd7fd-873b-40ed-ae2e-1191dff83560"
      },
      "execution_count": 2,
      "outputs": [
        {
          "output_type": "stream",
          "name": "stdout",
          "text": [
            "olleh\n"
          ]
        }
      ]
    },
    {
      "cell_type": "code",
      "source": [
        "## 3. Implement a Python function that takes a list of integers and returns a new list containing the squares of each number.\n",
        "def square_numbers(numbers):\n",
        "    return [num ** 2 for num in numbers]\n",
        "\n",
        "numbers_list = [1, 2, 3, 4]\n",
        "print(square_numbers(numbers_list))\n"
      ],
      "metadata": {
        "colab": {
          "base_uri": "https://localhost:8080/"
        },
        "id": "xXY2QcmaBTfe",
        "outputId": "f0465b12-ac00-4d1f-dcde-acd7e0ec86b6"
      },
      "execution_count": 3,
      "outputs": [
        {
          "output_type": "stream",
          "name": "stdout",
          "text": [
            "[1, 4, 9, 16]\n"
          ]
        }
      ]
    },
    {
      "cell_type": "code",
      "source": [
        "## 4. Write a Python function that checks if a given number is prime or not from 1 to 200.\n",
        "def is_prime(num):\n",
        "    if num < 2:\n",
        "        return False\n",
        "    for i in range(2, int(num**0.5) + 1):\n",
        "        if num % i == 0:\n",
        "            return False\n",
        "    return True\n",
        "\n",
        "print(is_prime(29))\n",
        "print(is_prime(30))\n"
      ],
      "metadata": {
        "colab": {
          "base_uri": "https://localhost:8080/"
        },
        "id": "P9tPWlBKBX1a",
        "outputId": "59f55662-e665-473e-949a-00753c49e66f"
      },
      "execution_count": 4,
      "outputs": [
        {
          "output_type": "stream",
          "name": "stdout",
          "text": [
            "True\n",
            "False\n"
          ]
        }
      ]
    },
    {
      "cell_type": "code",
      "source": [
        "## 5. Create an iterator class in Python that generates the Fibonacci sequence up to a specified number of terms.\n",
        "class FibonacciIterator:\n",
        "    def __init__(self, terms):\n",
        "        self.terms = terms\n",
        "        self.a, self.b = 0, 1\n",
        "        self.count = 0\n",
        "\n",
        "    def __iter__(self):\n",
        "        return self\n",
        "\n",
        "    def __next__(self):\n",
        "        if self.count < self.terms:\n",
        "            self.count += 1\n",
        "            self.a, self.b = self.b, self.a + self.b\n",
        "            return self.a\n",
        "        else:\n",
        "            raise StopIteration\n",
        "\n",
        "fib = FibonacciIterator(5)\n",
        "for num in fib:\n",
        "    print(num)\n"
      ],
      "metadata": {
        "colab": {
          "base_uri": "https://localhost:8080/"
        },
        "id": "YiQvpjMCBc04",
        "outputId": "8208c138-734a-4865-8edf-f2551cd4faf6"
      },
      "execution_count": 5,
      "outputs": [
        {
          "output_type": "stream",
          "name": "stdout",
          "text": [
            "1\n",
            "1\n",
            "2\n",
            "3\n",
            "5\n"
          ]
        }
      ]
    },
    {
      "cell_type": "code",
      "source": [
        "## 6. Write a generator function in Python that yields the powers of 2 up to a given exponent.\n",
        "def powers_of_2(exponent):\n",
        "    for i in range(exponent + 1):\n",
        "        yield 2 ** i\n",
        "\n",
        "print(list(powers_of_2(5)))\n"
      ],
      "metadata": {
        "colab": {
          "base_uri": "https://localhost:8080/"
        },
        "id": "CZhhAET3BuVD",
        "outputId": "8278cd15-8b96-4513-d36e-7d43388a9416"
      },
      "execution_count": 6,
      "outputs": [
        {
          "output_type": "stream",
          "name": "stdout",
          "text": [
            "[1, 2, 4, 8, 16, 32]\n"
          ]
        }
      ]
    },
    {
      "cell_type": "code",
      "source": [
        "## 7. Implement a generator function that reads a file line by line and yields each line as a string.\n",
        "def read_file_line_by_line(filename):\n",
        "    with open(filename, 'r') as file:\n",
        "        for line in file:\n",
        "            yield line.strip()"
      ],
      "metadata": {
        "id": "ZS05jbMoBxpm"
      },
      "execution_count": 10,
      "outputs": []
    },
    {
      "cell_type": "code",
      "source": [
        "## 8. Use a lambda function in Python to sort a list of tuples based on the second element of each tuple.\n",
        "lst = [(1, 2), (3, 1), (5, 4)]\n",
        "sorted_lst = sorted(lst, key=lambda x: x[1])\n",
        "print(sorted_lst)\n"
      ],
      "metadata": {
        "colab": {
          "base_uri": "https://localhost:8080/"
        },
        "id": "JVtKQRAdCBwK",
        "outputId": "68a7c0e1-1fe4-4a00-a2ca-4a64b4434432"
      },
      "execution_count": 7,
      "outputs": [
        {
          "output_type": "stream",
          "name": "stdout",
          "text": [
            "[(3, 1), (1, 2), (5, 4)]\n"
          ]
        }
      ]
    },
    {
      "cell_type": "code",
      "source": [
        "## 9. Write a Python program that uses `map()` to convert a list of temperatures from Celsius to Fahrenheit.\n",
        "def celsius_to_fahrenheit(celsius):\n",
        "    return (celsius * 9/5) + 32\n",
        "\n",
        "temps_celsius = [0, 20, 30, 40]\n",
        "temps_fahrenheit = list(map(celsius_to_fahrenheit, temps_celsius))\n",
        "print(temps_fahrenheit)\n"
      ],
      "metadata": {
        "colab": {
          "base_uri": "https://localhost:8080/"
        },
        "id": "I3v9H5NECEJ9",
        "outputId": "67f092a7-66a1-4d44-8479-9157980dfcdf"
      },
      "execution_count": 8,
      "outputs": [
        {
          "output_type": "stream",
          "name": "stdout",
          "text": [
            "[32.0, 68.0, 86.0, 104.0]\n"
          ]
        }
      ]
    },
    {
      "cell_type": "code",
      "source": [
        "## 10. Create a Python program that uses `filter()` to remove all the vowels from a given string.\n",
        "def remove_vowels(s):\n",
        "    return ''.join(filter(lambda x: x.lower() not in 'aeiou', s))\n",
        "\n",
        "print(remove_vowels(\"hello world\"))\n"
      ],
      "metadata": {
        "colab": {
          "base_uri": "https://localhost:8080/"
        },
        "id": "gFbg7yAqCF8g",
        "outputId": "0cf7745d-3afc-463d-9a4c-6b6121a45af2"
      },
      "execution_count": 9,
      "outputs": [
        {
          "output_type": "stream",
          "name": "stdout",
          "text": [
            "hll wrld\n"
          ]
        }
      ]
    },
    {
      "cell_type": "code",
      "source": [
        "\"\"\"Imagine an accounting routine used in a book shop. It works on a list with sublists, which look like this:\n",
        "Write a Python program, which returns a list with 2-tuples. Each tuple consists of the order number and the\n",
        "product of the price per item and the quantity. The product should be increased by 10,- € if the value of the\n",
        "order is smaller than 100,00 €.\n",
        "Write a Python program using lambda and map.\"\"\"\n",
        "\n",
        "orders = [\n",
        "    (34587, \"Learning Python, Mark Lutz\", 4, 40.95),\n",
        "    (98762, \"Programming Python, Mark Lutz\", 5, 56.80),\n",
        "    (77226, \"Head First Python, Paul Barry\", 3, 32.95),\n",
        "    (88112, \"Einführung in Python3, Bernd Klein\", 3, 24.99)\n",
        "]\n",
        "\n",
        "result = list(map(lambda order: (order[0], order[2] * order[3] if order[2] * order[3] >= 100 else order[2] * order[3] + 10), orders))\n",
        "\n",
        "print(result)\n"
      ],
      "metadata": {
        "colab": {
          "base_uri": "https://localhost:8080/"
        },
        "id": "VtnW2aNKC-6l",
        "outputId": "b90564a2-49c2-45e2-f10a-d5af99679249"
      },
      "execution_count": 11,
      "outputs": [
        {
          "output_type": "stream",
          "name": "stdout",
          "text": [
            "[(34587, 163.8), (98762, 284.0), (77226, 108.85000000000001), (88112, 84.97)]\n"
          ]
        }
      ]
    }
  ]
}